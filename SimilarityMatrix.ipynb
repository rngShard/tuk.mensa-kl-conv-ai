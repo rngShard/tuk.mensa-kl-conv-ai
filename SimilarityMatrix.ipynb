{
 "cells": [
  {
   "cell_type": "markdown",
   "metadata": {},
   "source": [
    "# Computing User-User Similarities using different similarity functions"
   ]
  },
  {
   "cell_type": "code",
   "execution_count": null,
   "metadata": {},
   "outputs": [],
   "source": [
    "import pandas as pd\n",
    "import numpy as np\n",
    "from util.cloud_connection import bucket_connection\n",
    "pd.options.display.max_columns = None\n",
    "from sklearn.metrics.pairwise import pairwise_distances"
   ]
  },
  {
   "cell_type": "code",
   "execution_count": null,
   "metadata": {},
   "outputs": [],
   "source": [
    "RATING_CSV = 'data/rating_normalized.csv'"
   ]
  },
  {
   "cell_type": "code",
   "execution_count": null,
   "metadata": {},
   "outputs": [],
   "source": [
    "df_ratings = pd.read_csv(RATING_CSV)\n",
    "df_meals = bucket_connection.get_meals()"
   ]
  },
  {
   "cell_type": "code",
   "execution_count": null,
   "metadata": {},
   "outputs": [],
   "source": [
    "df_ratings = df_ratings.assign(\n",
    "    title_prim=[df_meals.loc[(df_meals['m_id']==m_id),'title_prim'].to_string(index=False) \n",
    "                for m_id in df_ratings.loc[:,'m_id']])\n",
    "\n",
    "df_ratings.head()"
   ]
  },
  {
   "cell_type": "markdown",
   "metadata": {},
   "source": [
    "## User - Item Matrix"
   ]
  },
  {
   "cell_type": "code",
   "execution_count": null,
   "metadata": {},
   "outputs": [],
   "source": [
    "df_user_item = df_ratings.pivot_table(index=\"user\",\n",
    "                                      columns=\"title_prim\",\n",
    "                                      values=\"rating\",\n",
    "                                      aggfunc=np.mean).fillna(0)"
   ]
  },
  {
   "cell_type": "code",
   "execution_count": null,
   "metadata": {
    "scrolled": true
   },
   "outputs": [],
   "source": [
    "df_user_item"
   ]
  },
  {
   "cell_type": "markdown",
   "metadata": {},
   "source": [
    "## User similarities\n",
    "### Cosine similarity\n",
    "Using the pairwise cosine similarity from sklearn"
   ]
  },
  {
   "cell_type": "code",
   "execution_count": null,
   "metadata": {
    "scrolled": true
   },
   "outputs": [],
   "source": [
    "user_similarity_cos = pd.DataFrame(1 - pairwise_distances(df_user_item, metric=\"cosine\"))\n",
    "user_similarity_cos"
   ]
  },
  {
   "cell_type": "code",
   "execution_count": null,
   "metadata": {
    "scrolled": true
   },
   "outputs": [],
   "source": [
    "user_similarity_cos.sum()"
   ]
  },
  {
   "cell_type": "markdown",
   "metadata": {},
   "source": [
    "We have one user whose sum of cosine similarities for all other users including himself is 1. This means he has no similarity with any other user."
   ]
  },
  {
   "cell_type": "code",
   "execution_count": null,
   "metadata": {},
   "outputs": [],
   "source": [
    "user_similarity_cos.sum().sum()"
   ]
  },
  {
   "cell_type": "code",
   "execution_count": null,
   "metadata": {},
   "outputs": [],
   "source": [
    "print(df_user_item.size)\n",
    "print(np.count_nonzero(df_user_item))\n",
    "print(np.count_nonzero(df_user_item)/ df_user_item.size)"
   ]
  },
  {
   "cell_type": "code",
   "execution_count": null,
   "metadata": {},
   "outputs": [],
   "source": [
    "print(user_similarity_cos.size)\n",
    "print(np.count_nonzero(user_similarity_cos))\n",
    "print(np.count_nonzero(user_similarity_cos)/ user_similarity_cos.size)"
   ]
  },
  {
   "cell_type": "markdown",
   "metadata": {},
   "source": [
    "The user item matrix is 6.3% nonzero, the user-user similarity matrix is 25% nonzero. "
   ]
  },
  {
   "cell_type": "markdown",
   "metadata": {},
   "source": [
    "### Pearson correlation coefficient"
   ]
  },
  {
   "cell_type": "code",
   "execution_count": null,
   "metadata": {
    "scrolled": true
   },
   "outputs": [],
   "source": [
    "user_similarity_pearson = pd.DataFrame(1 - pairwise_distances(df_user_item, metric=\"correlation\"))\n",
    "user_similarity_pearson"
   ]
  },
  {
   "cell_type": "code",
   "execution_count": null,
   "metadata": {},
   "outputs": [],
   "source": [
    "print(\"{} valus bigger then 0.5\".format(str(len(np.where(user_similarity_pearson > 0.5)[0]) -53)))"
   ]
  },
  {
   "cell_type": "code",
   "execution_count": null,
   "metadata": {
    "scrolled": true
   },
   "outputs": [],
   "source": [
    "user_similarity_pearson[user_similarity_pearson > 0.5]"
   ]
  },
  {
   "cell_type": "code",
   "execution_count": null,
   "metadata": {},
   "outputs": [],
   "source": [
    "print(user_similarity_pearson.size)\n",
    "print(np.count_nonzero(user_similarity_pearson))\n",
    "print(np.count_nonzero(user_similarity_pearson)/ user_similarity_pearson.size)\n",
    "print()\n",
    "print(user_similarity_pearson.size)\n",
    "print(len(np.where(user_similarity_pearson < 0)[0]))\n",
    "print( 1- len(np.where(user_similarity_pearson < 0)[0])/ user_similarity_pearson.size)"
   ]
  },
  {
   "cell_type": "markdown",
   "metadata": {},
   "source": [
    "With the pearson correlation coefficient we get a dense matrix, but it has a lot of negative values. We need to check how those affect the further recommendation steps."
   ]
  },
  {
   "cell_type": "markdown",
   "metadata": {},
   "source": [
    "### Dice similarity"
   ]
  },
  {
   "cell_type": "code",
   "execution_count": null,
   "metadata": {
    "scrolled": true
   },
   "outputs": [],
   "source": [
    "user_similarity_dice = pd.DataFrame(1 - pairwise_distances(df_user_item, metric=\"dice\"))\n",
    "user_similarity_dice"
   ]
  },
  {
   "cell_type": "code",
   "execution_count": null,
   "metadata": {},
   "outputs": [],
   "source": [
    "print(\"{} valus bigger then 0\".format(str(len(np.where(user_similarity_dice > 0)[0]) -53)))\n",
    "print(\"{} valus bigger then 0.5\".format(str(len(np.where(user_similarity_dice > 0.5)[0]) -53)))"
   ]
  },
  {
   "cell_type": "code",
   "execution_count": null,
   "metadata": {
    "scrolled": true
   },
   "outputs": [],
   "source": [
    "user_similarity_dice.sum()"
   ]
  },
  {
   "cell_type": "markdown",
   "metadata": {},
   "source": [
    "With the dice similarity one user has no similarity to any user. It's the same user as with the cosine similarity."
   ]
  },
  {
   "cell_type": "code",
   "execution_count": null,
   "metadata": {},
   "outputs": [],
   "source": [
    "print(user_similarity_dice.size)\n",
    "print(np.count_nonzero(user_similarity_dice))\n",
    "print(np.count_nonzero(user_similarity_dice)/ user_similarity_dice.size)"
   ]
  },
  {
   "cell_type": "code",
   "execution_count": null,
   "metadata": {},
   "outputs": [],
   "source": [
    "user_similarity_dice.sum().sum()"
   ]
  },
  {
   "cell_type": "markdown",
   "metadata": {},
   "source": [
    "### Jaccard similarity"
   ]
  },
  {
   "cell_type": "code",
   "execution_count": null,
   "metadata": {
    "scrolled": true
   },
   "outputs": [],
   "source": [
    "user_similarity_jaccard = pd.DataFrame(1 - pairwise_distances(df_user_item, metric=\"jaccard\"))\n",
    "user_similarity_jaccard"
   ]
  },
  {
   "cell_type": "code",
   "execution_count": null,
   "metadata": {},
   "outputs": [],
   "source": [
    "print(\"{} valus bigger then 0\".format(str(len(np.where(user_similarity_jaccard > 0)[0]) -53)))\n",
    "print(\"{} valus bigger then 0.5\".format(str(len(np.where(user_similarity_jaccard > 0.5)[0]) -53)))"
   ]
  },
  {
   "cell_type": "code",
   "execution_count": null,
   "metadata": {
    "scrolled": true
   },
   "outputs": [],
   "source": [
    "user_similarity_jaccard.sum()"
   ]
  },
  {
   "cell_type": "code",
   "execution_count": null,
   "metadata": {},
   "outputs": [],
   "source": [
    "print(user_similarity_jaccard.size)\n",
    "print(np.count_nonzero(user_similarity_jaccard))\n",
    "print(np.count_nonzero(user_similarity_jaccard)/ user_similarity_jaccard.size)"
   ]
  },
  {
   "cell_type": "code",
   "execution_count": null,
   "metadata": {},
   "outputs": [],
   "source": [
    "user_similarity_jaccard.sum().sum()"
   ]
  },
  {
   "cell_type": "code",
   "execution_count": null,
   "metadata": {},
   "outputs": [],
   "source": []
  }
 ],
 "metadata": {
  "kernelspec": {
   "display_name": "Python 3",
   "language": "python",
   "name": "python3"
  },
  "language_info": {
   "codemirror_mode": {
    "name": "ipython",
    "version": 3
   },
   "file_extension": ".py",
   "mimetype": "text/x-python",
   "name": "python",
   "nbconvert_exporter": "python",
   "pygments_lexer": "ipython3",
   "version": "3.6.6"
  }
 },
 "nbformat": 4,
 "nbformat_minor": 2
}
